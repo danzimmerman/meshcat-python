{
 "cells": [
  {
   "cell_type": "code",
   "execution_count": 1,
   "id": "7af95cc4",
   "metadata": {},
   "outputs": [],
   "source": [
    "import numpy as np\n",
    "import os\n",
    "import time\n",
    "\n",
    "import meshcat"
   ]
  },
  {
   "cell_type": "code",
   "execution_count": 2,
   "id": "a41a4c53",
   "metadata": {},
   "outputs": [
    {
     "name": "stdout",
     "output_type": "stream",
     "text": [
      "You can open the visualizer by visiting the following URL:\n",
      "http://127.0.0.1:7000/static/\n"
     ]
    },
    {
     "data": {
      "text/plain": [
       "<Visualizer using: <meshcat.visualizer.ViewerWindow object at 0x000001DBDC93F400> at path: <meshcat.path.Path object at 0x000001DBDB1E8D60>>"
      ]
     },
     "execution_count": 2,
     "metadata": {},
     "output_type": "execute_result"
    }
   ],
   "source": [
    "# Create a new visualizer\n",
    "vis = meshcat.Visualizer()\n",
    "vis.open()"
   ]
  },
  {
   "cell_type": "code",
   "execution_count": 3,
   "id": "0082535d",
   "metadata": {},
   "outputs": [
    {
     "data": {
      "text/plain": [
       "'c:\\\\code\\\\dan\\\\meshcat-python\\\\src\\\\meshcat\\\\viewer'"
      ]
     },
     "execution_count": 3,
     "metadata": {},
     "output_type": "execute_result"
    }
   ],
   "source": [
    "meshcat.viewer_assets_path()"
   ]
  },
  {
   "cell_type": "code",
   "execution_count": 4,
   "id": "0b84e1a5",
   "metadata": {},
   "outputs": [],
   "source": [
    "dae_path = r\"G:\\My Drive\\POLARWORKS_DRIVE\\27_SPRINTS\\220120 SPRINT\\3D_Assets\\Collada_Components\\skiver_img_map\\skiver_img_map.dae\""
   ]
  },
  {
   "cell_type": "code",
   "execution_count": 5,
   "id": "a248c7f1",
   "metadata": {},
   "outputs": [
    {
     "name": "stdout",
     "output_type": "stream",
     "text": [
      "Found image resource names: ['skiver_textures.png']\n",
      "Seeking images in G:\\My Drive\\POLARWORKS_DRIVE\\27_SPRINTS\\220120 SPRINT\\3D_Assets\\Collada_Components\\skiver_img_map\n"
     ]
    }
   ],
   "source": [
    "textured_dae = meshcat.geometry.DaeMeshFileObject.from_file(dae_path, verbose=True)"
   ]
  },
  {
   "cell_type": "code",
   "execution_count": 6,
   "id": "6955e7d6",
   "metadata": {},
   "outputs": [],
   "source": [
    "vis['skiver'].set_object(textured_dae)"
   ]
  },
  {
   "cell_type": "code",
   "execution_count": 7,
   "id": "e0829a25",
   "metadata": {},
   "outputs": [],
   "source": [
    "cart_path = r\"G:\\My Drive\\POLARWORKS_DRIVE\\27_SPRINTS\\220120 SPRINT\\3D_Assets\\Collada_Components\\rcs_cart_v2_with_fence_no_sidewalls.dae\""
   ]
  },
  {
   "cell_type": "code",
   "execution_count": 8,
   "id": "57f2af99",
   "metadata": {},
   "outputs": [],
   "source": [
    "colored_cart = meshcat.geometry.DaeMeshFileObject.from_file(cart_path)\n",
    "vis['cart'].set_object(colored_cart)"
   ]
  },
  {
   "cell_type": "code",
   "execution_count": 9,
   "id": "d231f216",
   "metadata": {},
   "outputs": [],
   "source": [
    "vis.delete()"
   ]
  },
  {
   "cell_type": "code",
   "execution_count": null,
   "id": "b1ae923b",
   "metadata": {},
   "outputs": [],
   "source": []
  }
 ],
 "metadata": {
  "kernelspec": {
   "display_name": "Python 3 (ipykernel)",
   "language": "python",
   "name": "python3"
  },
  "language_info": {
   "codemirror_mode": {
    "name": "ipython",
    "version": 3
   },
   "file_extension": ".py",
   "mimetype": "text/x-python",
   "name": "python",
   "nbconvert_exporter": "python",
   "pygments_lexer": "ipython3",
   "version": "3.8.8"
  }
 },
 "nbformat": 4,
 "nbformat_minor": 5
}
